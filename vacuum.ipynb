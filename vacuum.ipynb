{
 "cells": [
  {
   "cell_type": "code",
   "execution_count": null,
   "metadata": {},
   "outputs": [],
   "source": [
    "# Diseño del modelo\n",
    "import agentpy as ap\n",
    "\n",
    "# Visualización\n",
    "import matplotlib.pyplot as plt\n",
    "import seaborn as sns\n",
    "import IPython\n",
    "\n",
    "# Random\n",
    "from random import randint\n",
    "\n",
    "NEIGHBOR_GRID = [\n",
    "  (0, 1),    (1, 1),  (1, 0), (1, -1),\n",
    "  (0, -1), (-1, -1), (-1, 0), (-1, 1),\n",
    "]"
   ]
  },
  {
   "cell_type": "code",
   "execution_count": null,
   "metadata": {},
   "outputs": [],
   "source": [
    "class CleaningModel(ap.Model):\n",
    "  def setup(self):\n",
    "    # Creación de los agentes (robots)\n",
    "    n_robots = int(self.p.robots)\n",
    "    robots = self.agents = ap.AgentList(self, n_robots)\n",
    "\n",
    "    # Creación de los agentes (basura)\n",
    "    n_trash = int(self.p.trash_density * self.p.width * self.p.height)\n",
    "    trash = ap.AgentList(self, n_trash)\n",
    "    self.agents.extend(trash)\n",
    "\n",
    "    # Creación del gráfico (piso)\n",
    "    self.ground = ap.Grid(self, (self.p.width, self.p.height), track_empty = True, check_border = True)\n",
    "    self.ground.add_agents(robots, [(1,1)] * n_robots, empty = False)\n",
    "    self.ground.add_agents(trash, random = True, empty = True)\n",
    "\n",
    "    # Estado (0: robot, 1: sucio, 2: limpio)\n",
    "    robots.status = 0\n",
    "    trash.status = 1\n",
    "    \n",
    "  def step(self):\n",
    "    # Detener si está limpio\n",
    "    ground_trash = self.agents.select(self.agents.status == 1)\n",
    "    if len(ground_trash) == 0:\n",
    "      self.stop()\n",
    "\n",
    "    # Iterar por cada robot\n",
    "    for robot in self.agents.select(self.agents.status == 0):\n",
    "      # Coordenadas del robot\n",
    "      robot_x, robot_y = self.ground.positions[robot]\n",
    "      will_move = True\n",
    "      # Encontrar agente basura en la posición del robot\n",
    "      for agent in self.ground.agents[robot_x, robot_y]:\n",
    "        # Limpiar basura\n",
    "        if agent.status == 1:\n",
    "          agent.status = 2\n",
    "          will_move = False\n",
    "          break\n",
    "      # Mover robot si no limpió nada\n",
    "      if will_move:\n",
    "        self.ground.move_by(robot, NEIGHBOR_GRID[randint(0, 7)])\n",
    "    \n",
    "  def end(self):\n",
    "    collected_trash = len(self.agents.select(self.agents.status == 2))\n",
    "    self.report('Percentage of trash collected',\n",
    "    collected_trash / len(self.agents.status != 0))\n"
   ]
  },
  {
   "cell_type": "code",
   "execution_count": null,
   "metadata": {},
   "outputs": [],
   "source": [
    "    \n",
    "# Define parameters\n",
    "parameters = {\n",
    "'robots':          200, # Cleaning robots\n",
    "'trash_density':   0.6, # Proportion of grid filled with trash\n",
    "'width':            50, # Grid dimensions\n",
    "'height':           30,\n",
    "'steps':           500, # Simulation steps\n",
    "}\n"
   ]
  },
  {
   "cell_type": "code",
   "execution_count": null,
   "metadata": {},
   "outputs": [],
   "source": [
    "# Create single-run animation with custom colors\n",
    "def animation_plot(model, ax):\n",
    "  attr_grid = model.ground.attr_grid('status')\n",
    "  color_dict = {0:'#585ded', 1:'#8c5858', 2:'#a1a1a1', None: \"#ffffff\"}\n",
    "  ap.gridplot(attr_grid, ax=ax, color_dict=color_dict, convert=True)\n",
    "  ax.set_title(f\"Simulation of a cleaning agent\\n\"\n",
    "  f\"Time-step: {model.t}, Trash left: \"\n",
    "  f\"{len(model.agents.select(model.agents.status == 1))}\")\n"
   ]
  },
  {
   "cell_type": "code",
   "execution_count": null,
   "metadata": {},
   "outputs": [],
   "source": [
    "fig, ax = plt.subplots()\n",
    "model = CleaningModel(parameters)\n",
    "animation = ap.animate(model, fig, ax, animation_plot)\n",
    "IPython.display.HTML(animation.to_jshtml(fps=15))"
   ]
  }
 ],
 "metadata": {
  "kernelspec": {
   "display_name": "Python 3.8.9 ('.tc2008b': venv)",
   "language": "python",
   "name": "python3"
  },
  "language_info": {
   "codemirror_mode": {
    "name": "ipython",
    "version": 3
   },
   "file_extension": ".py",
   "mimetype": "text/x-python",
   "name": "python",
   "nbconvert_exporter": "python",
   "pygments_lexer": "ipython3",
   "version": "3.8.9"
  },
  "orig_nbformat": 4,
  "vscode": {
   "interpreter": {
    "hash": "290df2674a4979b8a9c293e270c55e28bed312c140118a06b9cb4b43b6a04a4a"
   }
  }
 },
 "nbformat": 4,
 "nbformat_minor": 2
}
