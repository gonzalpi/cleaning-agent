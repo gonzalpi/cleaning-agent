{
 "cells": [
  {
   "cell_type": "code",
   "execution_count": null,
   "metadata": {},
   "outputs": [],
   "source": [
    "# Agent model library\n",
    "import agentpy as ap\n",
    "\n",
    "# Visualization\n",
    "import matplotlib.pyplot as plt\n",
    "import IPython\n",
    "\n",
    "# Random\n",
    "from random import randint\n",
    "\n",
    "# Neighboring coordinates\n",
    "NEIGHBOR_GRID = [\n",
    "  (0, 1),    (1, 1),  (1, 0), (1, -1),\n",
    "  (0, -1), (-1, -1), (-1, 0), (-1, 1),\n",
    "]"
   ]
  },
  {
   "cell_type": "code",
   "execution_count": null,
   "metadata": {},
   "outputs": [],
   "source": [
    "class CleaningModel(ap.Model):\n",
    "  def setup(self):\n",
    "    # Create agents (robots)\n",
    "    n_robots = int(self.p.robots)\n",
    "    robots = self.agents = ap.AgentList(self, n_robots)\n",
    "\n",
    "    # Create agents (trash)\n",
    "    n_trash = int(self.p.trash_density * self.p.width * self.p.height)\n",
    "    trash = ap.AgentList(self, n_trash)\n",
    "    self.agents.extend(trash)\n",
    "\n",
    "    # Create grid (ground)\n",
    "    self.ground = ap.Grid(self, (self.p.width, self.p.height), track_empty = True, check_border = True)\n",
    "    self.ground.add_agents(robots, [(1,1)] * n_robots, empty = False)\n",
    "    self.ground.add_agents(trash, random = True, empty = True)\n",
    "\n",
    "    # Status (0: robot, 1: dirty, 2: clean)\n",
    "    robots.status = 0\n",
    "    trash.status = 1\n",
    "    \n",
    "  def step(self):\n",
    "    # Stop if fully cleaned\n",
    "    ground_trash = self.agents.select(self.agents.status == 1)\n",
    "    if len(ground_trash) == 0:\n",
    "      self.stop()\n",
    "\n",
    "    # Iterate over every robot\n",
    "    for robot in self.agents.select(self.agents.status == 0):\n",
    "      # Get robot coordinates\n",
    "      robot_x, robot_y = self.ground.positions[robot]\n",
    "      will_move = True\n",
    "      # Find trash at the robot's position\n",
    "      for agent in self.ground.agents[robot_x, robot_y]:\n",
    "        # Clean up trash\n",
    "        if agent.status == 1:\n",
    "          agent.status = 2\n",
    "          will_move = False\n",
    "          break\n",
    "      # Move robot if it did not clean anything up\n",
    "      if will_move:\n",
    "        self.ground.move_by(robot, NEIGHBOR_GRID[randint(0, 7)])\n",
    "    \n",
    "  def end(self):\n",
    "    collected_trash = len(self.agents.select(self.agents.status == 2))\n",
    "    self.report('Percentage of trash collected',\n",
    "    collected_trash / len(self.agents.status != 0))\n"
   ]
  },
  {
   "cell_type": "code",
   "execution_count": null,
   "metadata": {},
   "outputs": [],
   "source": [
    "    \n",
    "# Define parameters\n",
    "parameters = {\n",
    "'robots': 500, # Cleaning robots\n",
    "'trash_density': 0.6, # Proportion of grid filled with trash\n",
    "'width': 100, # Grid dimensions\n",
    "'height': 100,\n",
    "'steps': 500, # Simulation steps\n",
    "}\n"
   ]
  },
  {
   "cell_type": "code",
   "execution_count": null,
   "metadata": {},
   "outputs": [],
   "source": [
    "# Create single-run animation with custom colors\n",
    "def animation_plot(model, ax):\n",
    "  attr_grid = model.ground.attr_grid('status')\n",
    "  color_dict = {0:'#585ded', 1:'#8c5858', 2:'#a1a1a1', None: \"#ffffff\"}\n",
    "  ap.gridplot(attr_grid, ax=ax, color_dict=color_dict, convert=True)\n",
    "  ax.set_title(f\"Simulation of a cleaning agent\\n\"\n",
    "  f\"Time-step: {model.t}, Trash left: \"\n",
    "  f\"{len(model.agents.select(model.agents.status == 1))}\")\n"
   ]
  },
  {
   "cell_type": "code",
   "execution_count": null,
   "metadata": {},
   "outputs": [],
   "source": [
    "fig, ax = plt.subplots()\n",
    "model = CleaningModel(parameters)\n",
    "animation = ap.animate(model, fig, ax, animation_plot)\n",
    "IPython.display.HTML(animation.to_jshtml(fps=15))"
   ]
  }
 ],
 "metadata": {
  "kernelspec": {
   "display_name": "Python 3.8.9 ('.env': venv)",
   "language": "python",
   "name": "python3"
  },
  "language_info": {
   "codemirror_mode": {
    "name": "ipython",
    "version": 3
   },
   "file_extension": ".py",
   "mimetype": "text/x-python",
   "name": "python",
   "nbconvert_exporter": "python",
   "pygments_lexer": "ipython3",
   "version": "3.8.9"
  },
  "orig_nbformat": 4,
  "vscode": {
   "interpreter": {
    "hash": "acb1730f43cde78f6b0386ef01b6d8a3796e9a1acf03b7f4a7b819d917df007f"
   }
  }
 },
 "nbformat": 4,
 "nbformat_minor": 2
}
